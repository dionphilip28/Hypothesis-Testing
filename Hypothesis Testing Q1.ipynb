{
 "cells": [
  {
   "cell_type": "markdown",
   "id": "dbf45c28",
   "metadata": {},
   "source": [
    "A F&B manager wants to determine whether there is any significant difference in the diameter of the cutlet between two units. A randomly selected sample of cutlets was collected from both units and measured? \n",
    "Analyze the data and draw inferences at 5% significance level. \n",
    "Please state the assumptions and tests that you carried out to check validity of the assumptions."
   ]
  },
  {
   "cell_type": "markdown",
   "id": "6dc93272",
   "metadata": {},
   "source": [
    "### Ho - Null hypothesis - There is no significant difference in the diameter of the cutlet units.\n",
    "### Ha - Alternate hypothesis - There is a significant difference in the diameter of the cutlet between two units."
   ]
  },
  {
   "cell_type": "code",
   "execution_count": 1,
   "id": "8b23eec6",
   "metadata": {},
   "outputs": [],
   "source": [
    "import numpy as np\n",
    "import scipy\n",
    "import seaborn as sns\n",
    "import pandas as pd\n",
    "from scipy import stats\n",
    "import pandas_profiling as pp\n",
    "import sweetviz as sv\n",
    "import matplotlib.pyplot as plt\n",
    "%matplotlib inline"
   ]
  },
  {
   "cell_type": "code",
   "execution_count": 2,
   "id": "b738c0fb",
   "metadata": {},
   "outputs": [
    {
     "data": {
      "text/html": [
       "<div>\n",
       "<style scoped>\n",
       "    .dataframe tbody tr th:only-of-type {\n",
       "        vertical-align: middle;\n",
       "    }\n",
       "\n",
       "    .dataframe tbody tr th {\n",
       "        vertical-align: top;\n",
       "    }\n",
       "\n",
       "    .dataframe thead th {\n",
       "        text-align: right;\n",
       "    }\n",
       "</style>\n",
       "<table border=\"1\" class=\"dataframe\">\n",
       "  <thead>\n",
       "    <tr style=\"text-align: right;\">\n",
       "      <th></th>\n",
       "      <th>Unit A</th>\n",
       "      <th>Unit B</th>\n",
       "    </tr>\n",
       "  </thead>\n",
       "  <tbody>\n",
       "    <tr>\n",
       "      <th>0</th>\n",
       "      <td>6.8090</td>\n",
       "      <td>6.7703</td>\n",
       "    </tr>\n",
       "    <tr>\n",
       "      <th>1</th>\n",
       "      <td>6.4376</td>\n",
       "      <td>7.5093</td>\n",
       "    </tr>\n",
       "    <tr>\n",
       "      <th>2</th>\n",
       "      <td>6.9157</td>\n",
       "      <td>6.7300</td>\n",
       "    </tr>\n",
       "    <tr>\n",
       "      <th>3</th>\n",
       "      <td>7.3012</td>\n",
       "      <td>6.7878</td>\n",
       "    </tr>\n",
       "    <tr>\n",
       "      <th>4</th>\n",
       "      <td>7.4488</td>\n",
       "      <td>7.1522</td>\n",
       "    </tr>\n",
       "  </tbody>\n",
       "</table>\n",
       "</div>"
      ],
      "text/plain": [
       "   Unit A  Unit B\n",
       "0  6.8090  6.7703\n",
       "1  6.4376  7.5093\n",
       "2  6.9157  6.7300\n",
       "3  7.3012  6.7878\n",
       "4  7.4488  7.1522"
      ]
     },
     "execution_count": 2,
     "metadata": {},
     "output_type": "execute_result"
    }
   ],
   "source": [
    "cutlet = pd.read_csv('C:\\\\Users\\\\User\\\\Downloads\\\\Cutlets.csv')\n",
    "cutlet.head()"
   ]
  },
  {
   "cell_type": "code",
   "execution_count": 3,
   "id": "10d2a8aa",
   "metadata": {},
   "outputs": [
    {
     "data": {
      "text/plain": [
       "(35, 2)"
      ]
     },
     "execution_count": 3,
     "metadata": {},
     "output_type": "execute_result"
    }
   ],
   "source": [
    "cutlet.shape"
   ]
  },
  {
   "cell_type": "code",
   "execution_count": 4,
   "id": "b31e06fa",
   "metadata": {},
   "outputs": [
    {
     "data": {
      "text/plain": [
       "Unit A    float64\n",
       "Unit B    float64\n",
       "dtype: object"
      ]
     },
     "execution_count": 4,
     "metadata": {},
     "output_type": "execute_result"
    }
   ],
   "source": [
    "cutlet.dtypes"
   ]
  },
  {
   "cell_type": "code",
   "execution_count": 5,
   "id": "38be34ee",
   "metadata": {},
   "outputs": [
    {
     "data": {
      "text/html": [
       "<div>\n",
       "<style scoped>\n",
       "    .dataframe tbody tr th:only-of-type {\n",
       "        vertical-align: middle;\n",
       "    }\n",
       "\n",
       "    .dataframe tbody tr th {\n",
       "        vertical-align: top;\n",
       "    }\n",
       "\n",
       "    .dataframe thead th {\n",
       "        text-align: right;\n",
       "    }\n",
       "</style>\n",
       "<table border=\"1\" class=\"dataframe\">\n",
       "  <thead>\n",
       "    <tr style=\"text-align: right;\">\n",
       "      <th></th>\n",
       "      <th>Unit A</th>\n",
       "      <th>Unit B</th>\n",
       "    </tr>\n",
       "  </thead>\n",
       "  <tbody>\n",
       "    <tr>\n",
       "      <th>count</th>\n",
       "      <td>35.000000</td>\n",
       "      <td>35.000000</td>\n",
       "    </tr>\n",
       "    <tr>\n",
       "      <th>mean</th>\n",
       "      <td>7.019091</td>\n",
       "      <td>6.964297</td>\n",
       "    </tr>\n",
       "    <tr>\n",
       "      <th>std</th>\n",
       "      <td>0.288408</td>\n",
       "      <td>0.343401</td>\n",
       "    </tr>\n",
       "    <tr>\n",
       "      <th>min</th>\n",
       "      <td>6.437600</td>\n",
       "      <td>6.038000</td>\n",
       "    </tr>\n",
       "    <tr>\n",
       "      <th>25%</th>\n",
       "      <td>6.831500</td>\n",
       "      <td>6.753600</td>\n",
       "    </tr>\n",
       "    <tr>\n",
       "      <th>50%</th>\n",
       "      <td>6.943800</td>\n",
       "      <td>6.939900</td>\n",
       "    </tr>\n",
       "    <tr>\n",
       "      <th>75%</th>\n",
       "      <td>7.280550</td>\n",
       "      <td>7.195000</td>\n",
       "    </tr>\n",
       "    <tr>\n",
       "      <th>max</th>\n",
       "      <td>7.516900</td>\n",
       "      <td>7.545900</td>\n",
       "    </tr>\n",
       "  </tbody>\n",
       "</table>\n",
       "</div>"
      ],
      "text/plain": [
       "          Unit A     Unit B\n",
       "count  35.000000  35.000000\n",
       "mean    7.019091   6.964297\n",
       "std     0.288408   0.343401\n",
       "min     6.437600   6.038000\n",
       "25%     6.831500   6.753600\n",
       "50%     6.943800   6.939900\n",
       "75%     7.280550   7.195000\n",
       "max     7.516900   7.545900"
      ]
     },
     "execution_count": 5,
     "metadata": {},
     "output_type": "execute_result"
    }
   ],
   "source": [
    "#Summary statistics\n",
    "cutlet.describe()"
   ]
  },
  {
   "cell_type": "code",
   "execution_count": 6,
   "id": "d399322d",
   "metadata": {},
   "outputs": [
    {
     "data": {
      "text/plain": [
       "Unit A    0.083179\n",
       "Unit B    0.117924\n",
       "dtype: float64"
      ]
     },
     "execution_count": 6,
     "metadata": {},
     "output_type": "execute_result"
    }
   ],
   "source": [
    "cutlet.var()"
   ]
  },
  {
   "cell_type": "code",
   "execution_count": 7,
   "id": "e3fd63b9",
   "metadata": {},
   "outputs": [
    {
     "data": {
      "text/plain": [
       "Unit A    0.288408\n",
       "Unit B    0.343401\n",
       "dtype: float64"
      ]
     },
     "execution_count": 7,
     "metadata": {},
     "output_type": "execute_result"
    }
   ],
   "source": [
    "cutlet.std()"
   ]
  },
  {
   "cell_type": "code",
   "execution_count": 8,
   "id": "e8e30b05",
   "metadata": {},
   "outputs": [
    {
     "name": "stderr",
     "output_type": "stream",
     "text": [
      "C:\\Users\\User\\anaconda3\\lib\\site-packages\\seaborn\\distributions.py:2557: FutureWarning: `distplot` is a deprecated function and will be removed in a future version. Please adapt your code to use either `displot` (a figure-level function with similar flexibility) or `histplot` (an axes-level function for histograms).\n",
      "  warnings.warn(msg, FutureWarning)\n",
      "C:\\Users\\User\\anaconda3\\lib\\site-packages\\seaborn\\distributions.py:2557: FutureWarning: `distplot` is a deprecated function and will be removed in a future version. Please adapt your code to use either `displot` (a figure-level function with similar flexibility) or `histplot` (an axes-level function for histograms).\n",
      "  warnings.warn(msg, FutureWarning)\n"
     ]
    },
    {
     "data": {
      "text/plain": [
       "<AxesSubplot:xlabel='Unit B', ylabel='Density'>"
      ]
     },
     "execution_count": 8,
     "metadata": {},
     "output_type": "execute_result"
    },
    {
     "data": {
      "image/png": "[encoded data removed]",
      "text/plain": [
       "<Figure size 432x288 with 1 Axes>"
      ]
     },
     "metadata": {
      "needs_background": "light"
     },
     "output_type": "display_data"
    }
   ],
   "source": [
    "sns.distplot(cutlet['Unit A'])\n",
    "sns.distplot(cutlet['Unit B'])"
   ]
  },
  {
   "cell_type": "code",
   "execution_count": 9,
   "id": "8022387b",
   "metadata": {
    "scrolled": true
   },
   "outputs": [
    {
     "name": "stdout",
     "output_type": "stream",
     "text": [
      "Unit A    7.019091\n",
      "Unit B    6.964297\n",
      "dtype: float64\n",
      "Unit A    6.9438\n",
      "Unit B    6.9399\n",
      "dtype: float64\n"
     ]
    }
   ],
   "source": [
    "#Finding mean and median\n",
    "print(cutlet.mean())\n",
    "print(cutlet.median())"
   ]
  },
  {
   "cell_type": "markdown",
   "id": "6044a8f1",
   "metadata": {},
   "source": [
    "We can say that, \n",
    "'Unit A' consists of an average of 7.019091 and 'Unit B' consists of an average of 6.964297"
   ]
  },
  {
   "cell_type": "markdown",
   "id": "95ef3995",
   "metadata": {},
   "source": [
    "Most of the data in 'Unit A' lies near the median i.e. 6.9438 and most of the data in 'Unit B' lies near the median i.e. 6.9399"
   ]
  },
  {
   "cell_type": "code",
   "execution_count": 10,
   "id": "1b49cdcf",
   "metadata": {},
   "outputs": [],
   "source": [
    "unitA = cutlet['Unit A']\n",
    "unitB = cutlet['Unit B']"
   ]
  },
  {
   "cell_type": "code",
   "execution_count": 11,
   "id": "4600c314",
   "metadata": {},
   "outputs": [],
   "source": [
    "ttest,p_value = stats.ttest_ind(unitA,unitB)"
   ]
  },
  {
   "cell_type": "code",
   "execution_count": 12,
   "id": "7fa661fa",
   "metadata": {},
   "outputs": [
    {
     "data": {
      "text/plain": [
       "(0.7228688704678063, 0.4722394724599501)"
      ]
     },
     "execution_count": 12,
     "metadata": {},
     "output_type": "execute_result"
    }
   ],
   "source": [
    "ttest,p_value"
   ]
  },
  {
   "cell_type": "code",
   "execution_count": 13,
   "id": "d316e4b5",
   "metadata": {},
   "outputs": [
    {
     "name": "stdout",
     "output_type": "stream",
     "text": [
      "Null hypothesis is accepted\n"
     ]
    }
   ],
   "source": [
    "if p_value < 0.05:\n",
    "    print('Alternative hypothesis is accepted')\n",
    "else:\n",
    "    print('Null hypothesis is accepted')"
   ]
  },
  {
   "cell_type": "markdown",
   "id": "c0ad10cf",
   "metadata": {},
   "source": [
    "## Hence we can conclude that there is no significant difference in the diameter of the cutlet units and Ho is accepted"
   ]
  }
 ],
 "metadata": {
  "kernelspec": {
   "display_name": "Python 3",
   "language": "python",
   "name": "python3"
  },
  "language_info": {
   "codemirror_mode": {
    "name": "ipython",
    "version": 3
   },
   "file_extension": ".py",
   "mimetype": "text/x-python",
   "name": "python",
   "nbconvert_exporter": "python",
   "pygments_lexer": "ipython3",
   "version": "3.8.8"
  }
 },
 "nbformat": 4,
 "nbformat_minor": 5
}
